{
 "cells": [
  {
   "cell_type": "markdown",
   "metadata": {},
   "source": [
    "# Genetic Algorithm for solving the p-median problem from the Shell AI Hackathon"
   ]
  },
  {
   "cell_type": "code",
   "execution_count": 3,
   "metadata": {},
   "outputs": [],
   "source": [
    "from pymoo.optimize import minimize"
   ]
  },
  {
   "cell_type": "markdown",
   "metadata": {},
   "source": [
    "1. Problem\n",
    "2. Algorithm\n",
    "3. Stop criteria"
   ]
  },
  {
   "cell_type": "markdown",
   "metadata": {},
   "source": [
    "## 1. Problem Definition\n",
    "\n",
    "The **capacitated p-median problem** is a well-known optimization problem in operations research. It involves selecting *p* facilities from a set of potential locations to minimize the total distance between the facilities and the demand points (or customers) they serve. The problem is often used in facility location planning, where the goal is to determine the optimal location of facilities such as warehouses, hospitals, or schools to serve a given population. \n",
    "\n",
    "The problem is NP-hard, meaning that it is computationally infeasible to solve for large instances using exact methods. Therefore, heuristic and metaheuristic algorithms such as genetic algorithms are often used to find approximate solutions."
   ]
  },
  {
   "cell_type": "markdown",
   "metadata": {},
   "source": [
    "![Alt text](image.png)"
   ]
  },
  {
   "cell_type": "markdown",
   "metadata": {},
   "source": [
    "#### Example:\n",
    "\n",
    "*Medians* $= \\{1,4\\}$\n",
    "\n",
    "Vertex | 1 | 2 | 3 | 4 | 5 | $\\dots$ | n-1 | n\n",
    "--- | --- | --- | --- |--- |--- |--- |--- |---\n",
    "Median | -1 | 4 | 5 | -1 | 1 | $\\dots$ | $m_{n-1}$|$m_n$\n",
    "\n"
   ]
  },
  {
   "cell_type": "code",
   "execution_count": null,
   "metadata": {},
   "outputs": [],
   "source": [
    "from pymoo.model.problem import Problem\n",
    "import numpy as np\n",
    "\n",
    "def create_problem_data(num_harvesting_sites, num_warehouses, B, D, C, a=0.001, b=1):\n",
    "\n",
    "    # create the objective function\n",
    "    cost_of_transportation = np.sum(x * B.reshape(-1, 1) * D)\n",
    "    cost_of_underutilization = np.sum(C - np.sum(x, axis=0))\n",
    "    objective_function = a * cost_of_transportation + b * cost_of_underutilization\n",
    "\n",
    "    return objective_function\n",
    "\n",
    "\n",
    "class ProblemWrapper(Problem):\n",
    "    def _evaluate(self, X, out, *args, **kwargs):\n",
    "        "
   ]
  }
 ],
 "metadata": {
  "kernelspec": {
   "display_name": "wastetoenergy",
   "language": "python",
   "name": "python3"
  },
  "language_info": {
   "codemirror_mode": {
    "name": "ipython",
    "version": 3
   },
   "file_extension": ".py",
   "mimetype": "text/x-python",
   "name": "python",
   "nbconvert_exporter": "python",
   "pygments_lexer": "ipython3",
   "version": "3.10.12"
  },
  "orig_nbformat": 4
 },
 "nbformat": 4,
 "nbformat_minor": 2
}
