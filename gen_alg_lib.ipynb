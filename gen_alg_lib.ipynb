{
 "cells": [
  {
   "cell_type": "markdown",
   "metadata": {},
   "source": [
    "# Genetic Algorithm for solving the p-median problem from the Shell AI Hackathon"
   ]
  },
  {
   "cell_type": "code",
   "execution_count": 3,
   "metadata": {},
   "outputs": [],
   "source": [
    "from pymoo.optimize import minimize"
   ]
  },
  {
   "cell_type": "markdown",
   "metadata": {},
   "source": [
    "1. Problem\n",
    "2. Algorithm\n",
    "3. Stop criteria"
   ]
  },
  {
   "cell_type": "markdown",
   "metadata": {},
   "source": [
    "## 1. Problem Definition\n",
    "\n",
    "The **capacitated p-median problem** is a well-known optimization problem in operations research. It involves selecting *p* facilities from a set of potential locations to minimize the total distance between the facilities and the demand points (or customers) they serve. The problem is often used in facility location planning, where the goal is to determine the optimal location of facilities such as warehouses, hospitals, or schools to serve a given population. \n",
    "\n",
    "The problem is NP-hard, meaning that it is computationally infeasible to solve for large instances using exact methods. Therefore, heuristic and metaheuristic algorithms such as genetic algorithms are often used to find approximate solutions."
   ]
  },
  {
   "cell_type": "markdown",
   "metadata": {},
   "source": [
    "![Alt text](image.png)"
   ]
  },
  {
   "cell_type": "markdown",
   "metadata": {},
   "source": [
    "#### Example:\n",
    "\n",
    "*Medians* $= \\{1,4\\}$\n",
    "\n",
    "Vertex | 1 | 2 | 3 | 4 | 5 | $\\dots$ | n-1 | n\n",
    "--- | --- | --- | --- |--- |--- |--- |--- |---\n",
    "Median | -1 | 4 | 5 | -1 | 1 | $\\dots$ | $m_{n-1}$|$m_n$\n",
    "\n"
   ]
  },
  {
   "cell_type": "code",
   "execution_count": 7,
   "metadata": {},
   "outputs": [],
   "source": [
    "from pymoo.core.problem import Problem\n",
    "from pymoo.problems.single.knapsack import Knapsack\n",
    "import numpy as np\n",
    "import pandas as pd"
   ]
  },
  {
   "cell_type": "code",
   "execution_count": 106,
   "metadata": {},
   "outputs": [],
   "source": [
    "def load_distance_matrix():\n",
    "    return pd.read_csv('dataset/Distance_Matrix.csv').drop('Unnamed: 0', axis=1)\n",
    "def load_biomass():\n",
    "    return pd.read_csv('dataset/Biomass_History.csv')"
   ]
  },
  {
   "cell_type": "code",
   "execution_count": 102,
   "metadata": {},
   "outputs": [],
   "source": [
    "def cost_of_transportation(x, B, D):\n",
    "    return np.sum(B @ (D*x))"
   ]
  },
  {
   "cell_type": "code",
   "execution_count": 3,
   "metadata": {},
   "outputs": [
    {
     "ename": "SyntaxError",
     "evalue": "incomplete input (2610931522.py, line 23)",
     "output_type": "error",
     "traceback": [
      "\u001b[1;36m  Cell \u001b[1;32mIn[3], line 23\u001b[1;36m\u001b[0m\n\u001b[1;33m    \u001b[0m\n\u001b[1;37m    ^\u001b[0m\n\u001b[1;31mSyntaxError\u001b[0m\u001b[1;31m:\u001b[0m incomplete input\n"
     ]
    }
   ],
   "source": [
    "\n",
    "\n",
    "def create_problem_data(num_harvesting_sites, num_warehouses, B, D, C, a=0.001, b=1):\n",
    "\n",
    "    # create the objective function\n",
    "    cost_of_transportation = np.sum(x * B.reshape(-1, 1) * D)\n",
    "    cost_of_underutilization = np.sum(C - np.sum(x, axis=0))\n",
    "    objective_function = a * cost_of_transportation + b * cost_of_underutilization\n",
    "\n",
    "    return objective_function\n",
    "\n",
    "def cost_of_transportation(x, B, D):\n",
    "    return np.sum(x * B.reshape(-1, 1) * D)\n",
    "\n",
    "\n",
    "class ProblemWrapper(Problem):\n",
    "    def __init__(self, B, D, p):\n",
    "        self.D = D\n",
    "        self.B = B\n",
    "        self.p = p\n",
    "        super().__init__(n_var=1, n_obj=1, n_ieq_constr=2, \n",
    "                         n_eq_constr=1, xl=0, xu=1, vtype=int)\n",
    "\n",
    "    def _evaluate(self, x, out, *args, **kwargs):\n",
    "        out[\"F\"] = cost_of_transportation(x, self.B, self.D)\n",
    "        out[\"G\"] = np.sum(np.diag(x)) - self.p\n",
    "        out[\"H\"] = np.sum(x, axis=1) - 1\n",
    "        out[\"I\"] = np.sum\n",
    "\n",
    "\n",
    "\n",
    "        "
   ]
  },
  {
   "cell_type": "code",
   "execution_count": 114,
   "metadata": {},
   "outputs": [
    {
     "data": {
      "text/plain": [
       "2"
      ]
     },
     "execution_count": 114,
     "metadata": {},
     "output_type": "execute_result"
    }
   ],
   "source": [
    "# D is a distance matrix\n",
    "# B is a demand matrix\n",
    "\n",
    "medians = np.array([0])\n",
    "\n",
    "D = np.array([[0, 1, 2], \n",
    "              [1, 0, 3], \n",
    "              [2, 3, 0]])\n",
    "\n",
    "B = np.array([2, 2, 3])\n",
    "\n",
    "x = np.array([[1, 0, 0], \n",
    "              [1, 0, 0], \n",
    "              [0, 0, 1]])\n",
    "\n",
    "cost_of_transportation(x, B, D)"
   ]
  },
  {
   "cell_type": "code",
   "execution_count": 119,
   "metadata": {},
   "outputs": [
    {
     "data": {
      "text/plain": [
       "array([2, 0, 1])"
      ]
     },
     "execution_count": 119,
     "metadata": {},
     "output_type": "execute_result"
    }
   ],
   "source": [
    "# sum the diagonal using numpy\n",
    "np.sum(x, axis=0)"
   ]
  },
  {
   "cell_type": "code",
   "execution_count": 84,
   "metadata": {},
   "outputs": [
    {
     "data": {
      "text/plain": [
       "array([2, 2, 3])"
      ]
     },
     "execution_count": 84,
     "metadata": {},
     "output_type": "execute_result"
    }
   ],
   "source": [
    "B"
   ]
  },
  {
   "cell_type": "code",
   "execution_count": null,
   "metadata": {},
   "outputs": [],
   "source": []
  },
  {
   "cell_type": "code",
   "execution_count": 76,
   "metadata": {},
   "outputs": [
    {
     "data": {
      "text/plain": [
       "array([[1, 0, 0],\n",
       "       [1, 1, 1],\n",
       "       [0, 0, 1]])"
      ]
     },
     "execution_count": 76,
     "metadata": {},
     "output_type": "execute_result"
    }
   ],
   "source": [
    "x"
   ]
  },
  {
   "cell_type": "code",
   "execution_count": 71,
   "metadata": {},
   "outputs": [
    {
     "data": {
      "text/plain": [
       "array([[0, 0, 0],\n",
       "       [1, 0, 0],\n",
       "       [0, 0, 0]])"
      ]
     },
     "execution_count": 71,
     "metadata": {},
     "output_type": "execute_result"
    }
   ],
   "source": [
    "D * x"
   ]
  },
  {
   "cell_type": "code",
   "execution_count": 45,
   "metadata": {},
   "outputs": [
    {
     "data": {
      "text/plain": [
       "array([[0, 1, 2],\n",
       "       [1, 0, 3],\n",
       "       [2, 3, 0]])"
      ]
     },
     "execution_count": 45,
     "metadata": {},
     "output_type": "execute_result"
    }
   ],
   "source": [
    "D"
   ]
  },
  {
   "cell_type": "code",
   "execution_count": null,
   "metadata": {},
   "outputs": [],
   "source": []
  },
  {
   "cell_type": "code",
   "execution_count": 32,
   "metadata": {},
   "outputs": [
    {
     "data": {
      "text/plain": [
       "(3,)"
      ]
     },
     "execution_count": 32,
     "metadata": {},
     "output_type": "execute_result"
    }
   ],
   "source": [
    "B.shape"
   ]
  },
  {
   "cell_type": "code",
   "execution_count": 24,
   "metadata": {},
   "outputs": [
    {
     "data": {
      "text/plain": [
       "(3,)"
      ]
     },
     "execution_count": 24,
     "metadata": {},
     "output_type": "execute_result"
    }
   ],
   "source": [
    "x.shape"
   ]
  },
  {
   "cell_type": "code",
   "execution_count": 14,
   "metadata": {},
   "outputs": [
    {
     "data": {
      "text/plain": [
       "array([[1, 2, 3],\n",
       "       [4, 5, 6]])"
      ]
     },
     "execution_count": 14,
     "metadata": {},
     "output_type": "execute_result"
    }
   ],
   "source": [
    "D"
   ]
  }
 ],
 "metadata": {
  "kernelspec": {
   "display_name": "wastetoenergy",
   "language": "python",
   "name": "python3"
  },
  "language_info": {
   "codemirror_mode": {
    "name": "ipython",
    "version": 3
   },
   "file_extension": ".py",
   "mimetype": "text/x-python",
   "name": "python",
   "nbconvert_exporter": "python",
   "pygments_lexer": "ipython3",
   "version": "3.10.12"
  },
  "orig_nbformat": 4
 },
 "nbformat": 4,
 "nbformat_minor": 2
}
