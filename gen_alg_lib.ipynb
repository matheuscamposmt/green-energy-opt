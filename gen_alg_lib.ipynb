{
 "cells": [
  {
   "cell_type": "markdown",
   "metadata": {},
   "source": [
    "# Genetic Algorithm for solving the p-median problem from the Shell AI Hackathon"
   ]
  },
  {
   "cell_type": "markdown",
   "metadata": {},
   "source": [
    "1. Problem\n",
    "2. Algorithm\n",
    "3. Stop criteria"
   ]
  },
  {
   "cell_type": "markdown",
   "metadata": {},
   "source": [
    "## 1. Problem Definition\n",
    "\n",
    "The **capacitated p-median problem** is a well-known optimization problem in operations research. It involves selecting *p* facilities from a set of potential locations to minimize the total distance between the facilities and the demand points (or customers) they serve. The problem is often used in facility location planning, where the goal is to determine the optimal location of facilities such as warehouses, hospitals, or schools to serve a given population. \n",
    "\n",
    "The problem is NP-hard, meaning that it is computationally infeasible to solve for large instances using exact methods. Therefore, heuristic and metaheuristic algorithms such as genetic algorithms are often used to find approximate solutions."
   ]
  },
  {
   "cell_type": "markdown",
   "metadata": {},
   "source": [
    "![Alt text](image.png)"
   ]
  },
  {
   "cell_type": "markdown",
   "metadata": {},
   "source": [
    "#### Example:\n",
    "\n",
    "*Medians* $= \\{1,4\\}$\n",
    "\n",
    "Vertex | 1 | 2 | 3 | 4 | 5 | $\\dots$ | n-1 | n\n",
    "--- | --- | --- | --- |--- |--- |--- |--- |---\n",
    "Median | -1 | 4 | 5 | -1 | 1 | $\\dots$ | $m_{n-1}$|$m_n$\n",
    "\n"
   ]
  },
  {
   "cell_type": "code",
   "execution_count": 1,
   "metadata": {},
   "outputs": [],
   "source": [
    "from pymoo.core.problem import Problem\n",
    "from pymoo.problems.single.knapsack import Knapsack\n",
    "import numpy as np\n",
    "import pandas as pd"
   ]
  },
  {
   "cell_type": "code",
   "execution_count": 2,
   "metadata": {},
   "outputs": [],
   "source": [
    "def load_distance_matrix():\n",
    "    return pd.read_csv('dataset/Distance_Matrix.csv').drop('Unnamed: 0', axis=1)\n",
    "def load_biomass():\n",
    "    return pd.read_csv('dataset/Biomass_History.csv')"
   ]
  },
  {
   "cell_type": "code",
   "execution_count": 3,
   "metadata": {},
   "outputs": [],
   "source": [
    "def cost_of_transportation(x, B, D):\n",
    "    return np.sum(B @ (D*x))"
   ]
  },
  {
   "cell_type": "code",
   "execution_count": 4,
   "metadata": {},
   "outputs": [],
   "source": [
    "class P_Median(Problem):\n",
    "    def __init__(self, B, D, p, C):\n",
    "        self.D = D\n",
    "        self.B = B\n",
    "        self.p = p\n",
    "        self.C = C\n",
    "        super().__init__(n_var=p, n_obj=1, n_ieq_constr=3, \n",
    "                         n_eq_constr=1, xl=0, xu=1, vtype=bool)\n",
    "\n",
    "    def _evaluate(self, x, out, *args, **kwargs):\n",
    "        print(x.shape)\n",
    "        out[\"F\"] = cost_of_transportation(x, self.B, self.D)\n",
    "\n",
    "        # constraints\n",
    "        g1 = np.sum(np.diag(x)) - self.p\n",
    "        g2 = np.sum(x - x @ np.diag(np.diag(x)))\n",
    "        g3 = (self.B @ x) - self.C\n",
    "\n",
    "        out[\"G\"] = np.column_stack([g1, g2, g3])\n",
    "\n",
    "        h1 = np.sum(x, axis=1) - 1\n",
    "        out[\"H\"] = h1"
   ]
  },
  {
   "cell_type": "code",
   "execution_count": null,
   "metadata": {},
   "outputs": [],
   "source": []
  },
  {
   "cell_type": "code",
   "execution_count": 664,
   "metadata": {},
   "outputs": [],
   "source": [
    "import numpy as np\n",
    "from scipy.stats import norm\n",
    "\n",
    "# create a prob distribution where the center has the highest prob\n",
    "\n",
    "def distance_from_center(vertice, center):\n",
    "    return np.sqrt(np.sum((vertice - center)**2)) + 1\n",
    "\n",
    "\n",
    "def sigmoid(x):\n",
    "    return 1 / (1 + np.exp(-x))\n",
    "def generate_random_matrix(n, p):\n",
    "    if p > n:\n",
    "        raise ValueError(\"p must be less than or equal to n\")\n",
    "\n",
    "    vect_distance_from_center = np.vectorize(distance_from_center)\n",
    "\n",
    "    # Initialize an n x n matrix filled with zeros\n",
    "    matrix = np.zeros((n, n), dtype=int)\n",
    "    prob_dist = 1/vect_distance_from_center(np.arange(n), n//2)\n",
    "    \n",
    "    diagonal = sigmoid(prob_dist).astype(int)\n",
    "    print()\n",
    "    np.fill_diagonal(matrix, diagonal)\n",
    "    \n",
    "    # Set the rest of the elements with uniform prob\n",
    "    rest_mask = np.logical_not(np.eye(n))\n",
    "    matrix[rest_mask] = np.random.choice([0, 1], size=rest_mask.sum())\n",
    "    \n",
    "    return matrix\n"
   ]
  },
  {
   "cell_type": "code",
   "execution_count": 660,
   "metadata": {},
   "outputs": [
    {
     "data": {
      "text/plain": [
       "array([5., 6.])"
      ]
     },
     "execution_count": 660,
     "metadata": {},
     "output_type": "execute_result"
    }
   ],
   "source": [
    "# numpy calculate the distance between elements of a matrix\n",
    "vect_distance_from_center = np.vectorize(distance_from_center)\n",
    "vect_distance_from_center([6, 5], [10, 10])"
   ]
  },
  {
   "cell_type": "code",
   "execution_count": 672,
   "metadata": {},
   "outputs": [
    {
     "name": "stdout",
     "output_type": "stream",
     "text": [
      "[0.11111111 0.125      0.14285714 0.16666667 0.2        0.25\n",
      " 0.33333333 0.5        1.         0.5        0.33333333 0.25\n",
      " 0.2        0.16666667 0.14285714 0.125      0.11111111]\n"
     ]
    },
    {
     "data": {
      "text/plain": [
       "array([[0, 0, 1, 1, 1, 0, 0, 1, 1, 0, 1, 0, 0, 1, 0, 1, 1],\n",
       "       [1, 0, 0, 1, 1, 1, 1, 1, 1, 1, 1, 1, 0, 0, 1, 0, 1],\n",
       "       [1, 0, 0, 0, 1, 0, 0, 0, 0, 0, 1, 1, 1, 1, 0, 0, 0],\n",
       "       [1, 0, 0, 0, 1, 1, 1, 0, 0, 0, 0, 1, 0, 0, 1, 1, 1],\n",
       "       [0, 0, 0, 0, 0, 0, 0, 1, 0, 0, 1, 1, 1, 1, 0, 1, 1],\n",
       "       [0, 1, 0, 0, 0, 0, 1, 1, 1, 1, 0, 1, 1, 1, 1, 0, 1],\n",
       "       [0, 1, 0, 0, 0, 0, 0, 1, 0, 1, 0, 0, 1, 1, 0, 0, 1],\n",
       "       [1, 0, 0, 1, 0, 1, 1, 0, 1, 1, 0, 0, 1, 1, 1, 0, 0],\n",
       "       [0, 0, 1, 0, 0, 0, 0, 1, 0, 1, 1, 0, 1, 0, 0, 1, 1],\n",
       "       [0, 1, 0, 0, 1, 1, 1, 1, 0, 0, 1, 0, 0, 0, 0, 0, 1],\n",
       "       [1, 1, 1, 0, 0, 1, 1, 0, 0, 0, 0, 0, 1, 1, 1, 0, 1],\n",
       "       [1, 0, 1, 1, 0, 1, 0, 1, 0, 0, 0, 0, 0, 0, 1, 1, 1],\n",
       "       [1, 0, 1, 0, 1, 1, 1, 1, 1, 0, 1, 1, 0, 0, 1, 0, 1],\n",
       "       [1, 1, 1, 0, 0, 0, 1, 1, 0, 0, 1, 1, 0, 0, 1, 0, 1],\n",
       "       [0, 1, 0, 0, 0, 0, 1, 1, 1, 1, 0, 0, 1, 1, 0, 1, 1],\n",
       "       [1, 1, 1, 0, 0, 1, 1, 1, 0, 0, 0, 1, 0, 0, 1, 0, 0],\n",
       "       [0, 1, 1, 1, 0, 0, 1, 1, 0, 0, 0, 0, 1, 0, 0, 0, 0]])"
      ]
     },
     "execution_count": 672,
     "metadata": {},
     "output_type": "execute_result"
    }
   ],
   "source": [
    "generate_random_matrix(17,5)"
   ]
  },
  {
   "cell_type": "code",
   "execution_count": 573,
   "metadata": {},
   "outputs": [
    {
     "name": "stdout",
     "output_type": "stream",
     "text": [
      "[(0.013295545235814023, 0.8244196495193659), (0.38855278699767526, 0.28231580170936976), (1.1968268412042982, 0.7882462111832169), (0.38855278699767526, 0.4992501959691181)]\n",
      "[False  True  True False]\n"
     ]
    }
   ],
   "source": [
    "n= 4\n",
    "rnd = np.random.rand(n)\n",
    "dist = norm.pdf(np.arange(n), loc=n//2, scale=n/6) * 2\n",
    "print(list(zip(dist, rnd)))\n",
    "print(dist > rnd)"
   ]
  },
  {
   "cell_type": "code",
   "execution_count": 583,
   "metadata": {},
   "outputs": [
    {
     "name": "stdout",
     "output_type": "stream",
     "text": [
      "Experimental p: 19.3345\n"
     ]
    },
    {
     "data": {
      "image/png": "[encoded data removed]",
      "text/plain": [
       "<Figure size 1000x500 with 1 Axes>"
      ]
     },
     "metadata": {},
     "output_type": "display_data"
    }
   ],
   "source": [
    "# proof test of the generate_random_matrix function\n",
    "n = 100\n",
    "p = 2\n",
    "\n",
    "indices_appereances = np.zeros(n)\n",
    "sum_exp_p = 0\n",
    "for _ in range(20_000):\n",
    "    matrix = generate_random_matrix(n, p)\n",
    "    \n",
    "    # Check the distribution of the diagonal\n",
    "    diagonal = np.diag(matrix)\n",
    "    diag_mask = diagonal == 1\n",
    "    indices_appereances[diag_mask] += 1\n",
    "\n",
    "    experimental_p = diagonal.sum()\n",
    "    sum_exp_p += experimental_p\n",
    "\n",
    "print(f\"Experimental p: {sum_exp_p / 2_000}\")\n",
    "\n",
    "# plot the normal distribution\n",
    "import matplotlib.pyplot as plt\n",
    "plt.figure(figsize=(10, 5))\n",
    "plt.plot(norm.pdf(np.arange(n), loc=n//2, scale=n/6), c='r')\n",
    "plt.plot(indices_appereances / indices_appereances.sum(), c='b')\n",
    "plt.show()"
   ]
  },
  {
   "cell_type": "code",
   "execution_count": 407,
   "metadata": {},
   "outputs": [
    {
     "data": {
      "text/plain": [
       "array([0.92590355, 0.93230432, 0.96208991, 0.76987921, 0.90586622])"
      ]
     },
     "execution_count": 407,
     "metadata": {},
     "output_type": "execute_result"
    }
   ],
   "source": [
    "n=5\n",
    "sigmoid(np.random.normal(loc=n/2, scale=n/8, size=n))"
   ]
  },
  {
   "cell_type": "code",
   "execution_count": 467,
   "metadata": {},
   "outputs": [
    {
     "ename": "ValueError",
     "evalue": "'a' and 'p' must have same size",
     "output_type": "error",
     "traceback": [
      "\u001b[1;31m---------------------------------------------------------------------------\u001b[0m",
      "\u001b[1;31mValueError\u001b[0m                                Traceback (most recent call last)",
      "\u001b[1;32mc:\\Users\\mathe\\Desktop\\projetos_ds\\shell_hackathon\\gen_alg_lib.ipynb Cell 11\u001b[0m line \u001b[0;36m5\n\u001b[0;32m      <a href='vscode-notebook-cell:/c%3A/Users/mathe/Desktop/projetos_ds/shell_hackathon/gen_alg_lib.ipynb#X41sZmlsZQ%3D%3D?line=2'>3</a>\u001b[0m matrix \u001b[39m=\u001b[39m np\u001b[39m.\u001b[39mzeros((n, n), dtype\u001b[39m=\u001b[39m\u001b[39mint\u001b[39m)\n\u001b[0;32m      <a href='vscode-notebook-cell:/c%3A/Users/mathe/Desktop/projetos_ds/shell_hackathon/gen_alg_lib.ipynb#X41sZmlsZQ%3D%3D?line=3'>4</a>\u001b[0m distribution \u001b[39m=\u001b[39m np\u001b[39m.\u001b[39mrandom\u001b[39m.\u001b[39mnormal(loc\u001b[39m=\u001b[39mn\u001b[39m/\u001b[39m\u001b[39m2\u001b[39m, scale\u001b[39m=\u001b[39m\u001b[39m.125\u001b[39m\u001b[39m*\u001b[39mn, size\u001b[39m=\u001b[39mn)\n\u001b[1;32m----> <a href='vscode-notebook-cell:/c%3A/Users/mathe/Desktop/projetos_ds/shell_hackathon/gen_alg_lib.ipynb#X41sZmlsZQ%3D%3D?line=4'>5</a>\u001b[0m diagonal \u001b[39m=\u001b[39m np\u001b[39m.\u001b[39;49mrandom\u001b[39m.\u001b[39;49mchoice([\u001b[39m0\u001b[39;49m, \u001b[39m1\u001b[39;49m], size\u001b[39m=\u001b[39;49mn, p\u001b[39m=\u001b[39;49mdistribution)\n",
      "File \u001b[1;32mnumpy\\\\random\\\\mtrand.pyx:967\u001b[0m, in \u001b[0;36mnumpy.random.mtrand.RandomState.choice\u001b[1;34m()\u001b[0m\n",
      "\u001b[1;31mValueError\u001b[0m: 'a' and 'p' must have same size"
     ]
    }
   ],
   "source": [
    "n =5\n",
    "\n",
    "matrix = np.zeros((n, n), dtype=int)\n",
    "distribution = np.random.normal(loc=n/2, scale=.125*n, size=n)\n",
    "diagonal = np.random.choice([0, 1], size=n, )"
   ]
  },
  {
   "cell_type": "code",
   "execution_count": null,
   "metadata": {},
   "outputs": [],
   "source": [
    "np.random.normal()"
   ]
  },
  {
   "cell_type": "code",
   "execution_count": 466,
   "metadata": {},
   "outputs": [
    {
     "name": "stdout",
     "output_type": "stream",
     "text": [
      "[0.50021413 0.53583125 0.96350648 0.96350648 0.53583125]\n"
     ]
    },
    {
     "data": {
      "text/plain": [
       "array([[0, 0, 0, 0, 0],\n",
       "       [0, 0, 0, 0, 0],\n",
       "       [0, 0, 0, 0, 0],\n",
       "       [0, 0, 0, 0, 0],\n",
       "       [0, 0, 0, 0, 0]])"
      ]
     },
     "execution_count": 466,
     "metadata": {},
     "output_type": "execute_result"
    }
   ],
   "source": [
    "generate_random_matrix(5,2)"
   ]
  },
  {
   "cell_type": "code",
   "execution_count": 140,
   "metadata": {},
   "outputs": [
    {
     "data": {
      "text/plain": [
       "array([[[0, 1, 0, ..., 0, 1, 1],\n",
       "        [1, 0, 0, ..., 0, 0, 1],\n",
       "        [0, 0, 1, ..., 1, 0, 0],\n",
       "        ...,\n",
       "        [0, 0, 1, ..., 1, 1, 1],\n",
       "        [1, 0, 0, ..., 1, 1, 1],\n",
       "        [1, 1, 0, ..., 1, 1, 0]],\n",
       "\n",
       "       [[0, 1, 0, ..., 0, 1, 0],\n",
       "        [1, 0, 0, ..., 1, 1, 1],\n",
       "        [0, 0, 1, ..., 0, 1, 1],\n",
       "        ...,\n",
       "        [0, 1, 0, ..., 0, 0, 1],\n",
       "        [1, 1, 1, ..., 0, 1, 0],\n",
       "        [0, 1, 1, ..., 1, 0, 0]],\n",
       "\n",
       "       [[0, 0, 1, ..., 1, 0, 0],\n",
       "        [0, 1, 1, ..., 0, 0, 1],\n",
       "        [1, 1, 1, ..., 0, 1, 0],\n",
       "        ...,\n",
       "        [1, 0, 0, ..., 0, 1, 0],\n",
       "        [0, 0, 1, ..., 1, 0, 1],\n",
       "        [0, 1, 0, ..., 0, 1, 1]],\n",
       "\n",
       "       ...,\n",
       "\n",
       "       [[0, 0, 0, ..., 0, 1, 1],\n",
       "        [0, 0, 1, ..., 0, 1, 1],\n",
       "        [0, 1, 0, ..., 1, 0, 0],\n",
       "        ...,\n",
       "        [0, 0, 1, ..., 1, 0, 1],\n",
       "        [1, 1, 0, ..., 0, 0, 1],\n",
       "        [1, 1, 0, ..., 1, 1, 0]],\n",
       "\n",
       "       [[0, 0, 0, ..., 1, 1, 0],\n",
       "        [0, 0, 0, ..., 0, 1, 0],\n",
       "        [0, 0, 1, ..., 0, 1, 0],\n",
       "        ...,\n",
       "        [1, 0, 0, ..., 0, 0, 0],\n",
       "        [1, 1, 1, ..., 0, 0, 0],\n",
       "        [0, 0, 0, ..., 0, 0, 0]],\n",
       "\n",
       "       [[0, 0, 0, ..., 1, 0, 1],\n",
       "        [0, 0, 1, ..., 1, 0, 1],\n",
       "        [0, 1, 1, ..., 0, 1, 1],\n",
       "        ...,\n",
       "        [1, 1, 0, ..., 0, 0, 1],\n",
       "        [0, 0, 1, ..., 0, 0, 1],\n",
       "        [1, 1, 1, ..., 1, 1, 1]]])"
      ]
     },
     "execution_count": 140,
     "metadata": {},
     "output_type": "execute_result"
    }
   ],
   "source": [
    "# Define n and p\n",
    "n = 5\n",
    "p = 2\n",
    "\n",
    "vectorized_generate_random_matrix = np.vectorize(generate_random_matrix, signature='(),()->(n,m)')\n",
    "result_array = vectorized_generate_random_matrix(np.full(10000, 10), np.full(10000, 3))\n",
    "result_array\n"
   ]
  },
  {
   "cell_type": "code",
   "execution_count": 26,
   "metadata": {},
   "outputs": [
    {
     "ename": "ValueError",
     "evalue": "setting an array element with a sequence.",
     "output_type": "error",
     "traceback": [
      "\u001b[1;31m---------------------------------------------------------------------------\u001b[0m",
      "\u001b[1;31mTypeError\u001b[0m                                 Traceback (most recent call last)",
      "\u001b[1;31mTypeError\u001b[0m: only length-1 arrays can be converted to Python scalars",
      "\nThe above exception was the direct cause of the following exception:\n",
      "\u001b[1;31mValueError\u001b[0m                                Traceback (most recent call last)",
      "\u001b[1;32mc:\\Users\\mathe\\Desktop\\projetos_ds\\shell_hackathon\\gen_alg_lib.ipynb Cell 12\u001b[0m line \u001b[0;36m2\n\u001b[0;32m      <a href='vscode-notebook-cell:/c%3A/Users/mathe/Desktop/projetos_ds/shell_hackathon/gen_alg_lib.ipynb#X24sZmlsZQ%3D%3D?line=0'>1</a>\u001b[0m vect \u001b[39m=\u001b[39m np\u001b[39m.\u001b[39mvectorize(generate_random_matrix)\n\u001b[1;32m----> <a href='vscode-notebook-cell:/c%3A/Users/mathe/Desktop/projetos_ds/shell_hackathon/gen_alg_lib.ipynb#X24sZmlsZQ%3D%3D?line=1'>2</a>\u001b[0m vect((\u001b[39m6\u001b[39;49m,\u001b[39m2\u001b[39;49m), (\u001b[39m4\u001b[39;49m, \u001b[39m1\u001b[39;49m))\n",
      "File \u001b[1;32mc:\\Users\\mathe\\miniconda3\\envs\\wastetoenergy\\lib\\site-packages\\numpy\\lib\\function_base.py:2372\u001b[0m, in \u001b[0;36mvectorize.__call__\u001b[1;34m(self, *args, **kwargs)\u001b[0m\n\u001b[0;32m   2369\u001b[0m     \u001b[39mself\u001b[39m\u001b[39m.\u001b[39m_init_stage_2(\u001b[39m*\u001b[39margs, \u001b[39m*\u001b[39m\u001b[39m*\u001b[39mkwargs)\n\u001b[0;32m   2370\u001b[0m     \u001b[39mreturn\u001b[39;00m \u001b[39mself\u001b[39m\n\u001b[1;32m-> 2372\u001b[0m \u001b[39mreturn\u001b[39;00m \u001b[39mself\u001b[39m\u001b[39m.\u001b[39m_call_as_normal(\u001b[39m*\u001b[39margs, \u001b[39m*\u001b[39m\u001b[39m*\u001b[39mkwargs)\n",
      "File \u001b[1;32mc:\\Users\\mathe\\miniconda3\\envs\\wastetoenergy\\lib\\site-packages\\numpy\\lib\\function_base.py:2365\u001b[0m, in \u001b[0;36mvectorize._call_as_normal\u001b[1;34m(self, *args, **kwargs)\u001b[0m\n\u001b[0;32m   2362\u001b[0m     vargs \u001b[39m=\u001b[39m [args[_i] \u001b[39mfor\u001b[39;00m _i \u001b[39min\u001b[39;00m inds]\n\u001b[0;32m   2363\u001b[0m     vargs\u001b[39m.\u001b[39mextend([kwargs[_n] \u001b[39mfor\u001b[39;00m _n \u001b[39min\u001b[39;00m names])\n\u001b[1;32m-> 2365\u001b[0m \u001b[39mreturn\u001b[39;00m \u001b[39mself\u001b[39;49m\u001b[39m.\u001b[39;49m_vectorize_call(func\u001b[39m=\u001b[39;49mfunc, args\u001b[39m=\u001b[39;49mvargs)\n",
      "File \u001b[1;32mc:\\Users\\mathe\\miniconda3\\envs\\wastetoenergy\\lib\\site-packages\\numpy\\lib\\function_base.py:2458\u001b[0m, in \u001b[0;36mvectorize._vectorize_call\u001b[1;34m(self, func, args)\u001b[0m\n\u001b[0;32m   2455\u001b[0m outputs \u001b[39m=\u001b[39m ufunc(\u001b[39m*\u001b[39minputs)\n\u001b[0;32m   2457\u001b[0m \u001b[39mif\u001b[39;00m ufunc\u001b[39m.\u001b[39mnout \u001b[39m==\u001b[39m \u001b[39m1\u001b[39m:\n\u001b[1;32m-> 2458\u001b[0m     res \u001b[39m=\u001b[39m asanyarray(outputs, dtype\u001b[39m=\u001b[39;49motypes[\u001b[39m0\u001b[39;49m])\n\u001b[0;32m   2459\u001b[0m \u001b[39melse\u001b[39;00m:\n\u001b[0;32m   2460\u001b[0m     res \u001b[39m=\u001b[39m \u001b[39mtuple\u001b[39m([asanyarray(x, dtype\u001b[39m=\u001b[39mt)\n\u001b[0;32m   2461\u001b[0m                  \u001b[39mfor\u001b[39;00m x, t \u001b[39min\u001b[39;00m \u001b[39mzip\u001b[39m(outputs, otypes)])\n",
      "\u001b[1;31mValueError\u001b[0m: setting an array element with a sequence."
     ]
    }
   ],
   "source": [
    "vect = np.vectorize(generate_random_matrix)\n",
    "vect((6,2), (4,))\n"
   ]
  },
  {
   "cell_type": "code",
   "execution_count": 7,
   "metadata": {},
   "outputs": [],
   "source": [
    "import numpy as np\n",
    "from pymoo.core.sampling import Sampling\n",
    "\n",
    "class P_MedianSampling(Sampling):\n",
    "\n",
    "    def _do(self, problem, n_samples, **kwargs):\n",
    "        n = len(problem.B)\n",
    "        data = np.zeros((n_samples, n, n), dtype=int)\n",
    "        for i in range(n_samples):\n",
    "            data[i] = generate_random_matrix(n, problem.p)\n",
    "        return data\n"
   ]
  },
  {
   "cell_type": "code",
   "execution_count": 11,
   "metadata": {},
   "outputs": [
    {
     "name": "stdout",
     "output_type": "stream",
     "text": [
      "[[0. 1. 2. 0. 1. 2. 0. 1. 2. 0. 1. 2.]\n",
      " [1. 2. 3. 1. 2. 3. 1. 2. 3. 1. 2. 3.]\n",
      " [2. 3. 4. 2. 3. 4. 2. 3. 4. 2. 3. 4.]\n",
      " [0. 1. 2. 0. 1. 2. 0. 1. 2. 0. 1. 2.]\n",
      " [1. 2. 3. 1. 2. 3. 1. 2. 3. 1. 2. 3.]\n",
      " [2. 3. 4. 2. 3. 4. 2. 3. 4. 2. 3. 4.]\n",
      " [0. 1. 2. 0. 1. 2. 0. 1. 2. 0. 1. 2.]\n",
      " [1. 2. 3. 1. 2. 3. 1. 2. 3. 1. 2. 3.]\n",
      " [2. 3. 4. 2. 3. 4. 2. 3. 4. 2. 3. 4.]\n",
      " [0. 1. 2. 0. 1. 2. 0. 1. 2. 0. 1. 2.]\n",
      " [1. 2. 3. 1. 2. 3. 1. 2. 3. 1. 2. 3.]\n",
      " [2. 3. 4. 2. 3. 4. 2. 3. 4. 2. 3. 4.]]\n"
     ]
    }
   ],
   "source": [
    "import numpy as np\n",
    "\n",
    "# Define your function\n",
    "def my_function(x, y):\n",
    "    return x + y\n",
    "\n",
    "# Define the shape of the array you want\n",
    "shape = (3, 3)  # For example, a 3x3 array\n",
    "\n",
    "# Repeat the function n times\n",
    "n = 4\n",
    "result = np.fromfunction(np.vectorize(lambda x, y: my_function(x, y)), shape=shape)\n",
    "result = np.tile(result, (n, n))\n",
    "\n",
    "print(result)\n"
   ]
  },
  {
   "cell_type": "code",
   "execution_count": 9,
   "metadata": {},
   "outputs": [],
   "source": [
    "# D is a distance matrix\n",
    "# B is a demand matrix\n",
    "\n",
    "medians = np.array([0])\n",
    "\n",
    "D = np.array([[0, 1, 2], \n",
    "              [1, 0, 3], \n",
    "              [2, 3, 0]])\n",
    "\n",
    "B = np.array([2, 2, 3])\n",
    "\n",
    "x = np.array([[1, 0, 0], \n",
    "              [1, 0, 0], \n",
    "              [1, 0, 0]])"
   ]
  },
  {
   "cell_type": "code",
   "execution_count": 10,
   "metadata": {},
   "outputs": [
    {
     "data": {
      "text/plain": [
       "array([[[0, 0, 1],\n",
       "        [0, 1, 1],\n",
       "        [1, 1, 1]],\n",
       "\n",
       "       [[0, 1, 0],\n",
       "        [1, 1, 0],\n",
       "        [0, 0, 1]],\n",
       "\n",
       "       [[0, 1, 0],\n",
       "        [1, 1, 0],\n",
       "        [0, 0, 1]],\n",
       "\n",
       "       [[1, 0, 1],\n",
       "        [0, 1, 1],\n",
       "        [1, 1, 1]],\n",
       "\n",
       "       [[0, 0, 0],\n",
       "        [0, 1, 1],\n",
       "        [0, 1, 1]],\n",
       "\n",
       "       [[0, 1, 1],\n",
       "        [1, 1, 1],\n",
       "        [1, 1, 1]],\n",
       "\n",
       "       [[0, 0, 0],\n",
       "        [0, 1, 1],\n",
       "        [0, 1, 1]],\n",
       "\n",
       "       [[1, 1, 1],\n",
       "        [1, 1, 0],\n",
       "        [1, 0, 1]],\n",
       "\n",
       "       [[1, 1, 0],\n",
       "        [1, 0, 0],\n",
       "        [0, 0, 1]],\n",
       "\n",
       "       [[0, 1, 0],\n",
       "        [1, 1, 0],\n",
       "        [0, 0, 1]]])"
      ]
     },
     "execution_count": 10,
     "metadata": {},
     "output_type": "execute_result"
    }
   ],
   "source": [
    "ex = P_MedianSampling()\n",
    "ex._do(P_Median(B, D, 2, 10), 10)"
   ]
  },
  {
   "cell_type": "code",
   "execution_count": 230,
   "metadata": {},
   "outputs": [],
   "source": [
    "from pymoo.core.duplicate import ElementwiseDuplicateElimination\n",
    "\n",
    "\n",
    "class MyElementwiseDuplicateElimination(ElementwiseDuplicateElimination):\n",
    "\n",
    "    def is_equal(self, a, b):\n",
    "        return a.get(\"hash\") == b.get(\"hash\")"
   ]
  },
  {
   "cell_type": "code",
   "execution_count": null,
   "metadata": {},
   "outputs": [],
   "source": [
    "from pymoo.algorithms.soo.nonconvex.brkga import BRKGA\n",
    "from pymoo.optimize import minimize\n",
    "\n",
    "problem = P_Median(B, D, 2, 10)\n",
    "\n",
    "algorithm = BRKGA(\n",
    "    n_elites=200,\n",
    "    n_offsprings=700,\n",
    "    n_mutants=100,\n",
    "    bias=0.7,\n",
    "    eliminate_duplicates=MyElementwiseDuplicateElimination())\n",
    "\n",
    "\n",
    "res = minimize(problem,\n",
    "               algorithm,\n",
    "               (\"n_gen\", 75),\n",
    "               seed=1,\n",
    "               verbose=True)\n",
    "\n",
    "print(\"Best solution found: \\nX = %s\\nF = %s\" % (res.X, res.F))\n",
    "print(\"Solution\", res.opt.get(\"pheno\")[0])"
   ]
  },
  {
   "cell_type": "code",
   "execution_count": null,
   "metadata": {},
   "outputs": [],
   "source": []
  }
 ],
 "metadata": {
  "kernelspec": {
   "display_name": "wastetoenergy",
   "language": "python",
   "name": "python3"
  },
  "language_info": {
   "codemirror_mode": {
    "name": "ipython",
    "version": 3
   },
   "file_extension": ".py",
   "mimetype": "text/x-python",
   "name": "python",
   "nbconvert_exporter": "python",
   "pygments_lexer": "ipython3",
   "version": "3.10.12"
  },
  "orig_nbformat": 4
 },
 "nbformat": 4,
 "nbformat_minor": 2
}
